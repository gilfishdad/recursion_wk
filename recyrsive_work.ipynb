{
 "cells": [
  {
   "cell_type": "code",
   "execution_count": 1,
   "id": "00f30430-3a24-43b8-a653-938a7796219f",
   "metadata": {},
   "outputs": [],
   "source": [
    "def factorial_recursive(n):\n",
    "    if n == 0 or n == 1:\n",
    "        print(f\"Base case: factorial_recursive({n}) = 1\")\n",
    "        return 1\n",
    "    else:\n",
    "        result = n * factorial_recursive(n - 1)\n",
    "        print(f\"factorial_recursive({n}) = {n} * factorial_recursive({n-1}) = {result}\")\n",
    "        return result\n",
    "def factorial_iterative(n):\n",
    "    result = 1\n",
    "    for i in range(1, n + 1):\n",
    "        result *= i\n",
    "        print(f\"Intermediate result: factorial_iterative({i}) = {result}\")\n",
    "    return result\n"
   ]
  },
  {
   "cell_type": "code",
   "execution_count": 4,
   "id": "6d1dd158-038f-45eb-b3c4-4d2067909b45",
   "metadata": {},
   "outputs": [
    {
     "name": "stdout",
     "output_type": "stream",
     "text": [
      "Factorial using Recursion:\n",
      "Base case: factorial_recursive(1) = 1\n",
      "factorial_recursive(2) = 2 * factorial_recursive(1) = 2\n",
      "factorial_recursive(3) = 3 * factorial_recursive(2) = 6\n",
      "6\n",
      "Factorial using Iteration:\n",
      "Intermediate result: factorial_iterative(1) = 1\n",
      "Intermediate result: factorial_iterative(2) = 2\n",
      "Intermediate result: factorial_iterative(3) = 6\n",
      "6\n"
     ]
    }
   ],
   "source": [
    "# Using Recursion\n",
    "print(\"Factorial using Recursion:\")\n",
    "print(factorial_recursive(3))\n",
    "\n",
    "# Using Iteration\n",
    "print(\"Factorial using Iteration:\")\n",
    "print(factorial_iterative(3))\n"
   ]
  },
  {
   "cell_type": "code",
   "execution_count": null,
   "id": "79d41697-2e00-4956-aef3-90db0bb91d76",
   "metadata": {},
   "outputs": [],
   "source": []
  },
  {
   "cell_type": "code",
   "execution_count": 7,
   "id": "b5d9a1f5-cc9f-4caa-a1b1-b88b788f0b0f",
   "metadata": {},
   "outputs": [],
   "source": [
    "def fibonacci_recursive(n):\n",
    "    if n == 0:\n",
    "        return 0\n",
    "    elif n == 1:\n",
    "        return 1\n",
    "    else:\n",
    "        return fibonacci_recursive(n-1) + fibonacci_recursive(n-2)\n",
    "#print(\"Fibonacci(8) =\", fibonacci_recursive(8))\n"
   ]
  },
  {
   "cell_type": "code",
   "execution_count": 8,
   "id": "2f8a1360-4e9f-48cc-8704-37a8d50c1924",
   "metadata": {},
   "outputs": [
    {
     "name": "stdout",
     "output_type": "stream",
     "text": [
      "Fibonacci(8) = 21\n"
     ]
    }
   ],
   "source": [
    "print(\"Fibonacci(8) =\", fibonacci_recursive(8))\n"
   ]
  },
  {
   "cell_type": "code",
   "execution_count": 9,
   "id": "f291d3bd-53e9-43fe-8694-4dcc0697930c",
   "metadata": {},
   "outputs": [
    {
     "name": "stdout",
     "output_type": "stream",
     "text": [
      "[5, 9, 1, 2, 4, 8, 6, 3, 7]\n"
     ]
    },
    {
     "ename": "NameError",
     "evalue": "name 'threshold' is not defined",
     "output_type": "error",
     "traceback": [
      "\u001b[0;31m---------------------------------------------------------------------------\u001b[0m",
      "\u001b[0;31mNameError\u001b[0m                                 Traceback (most recent call last)",
      "Cell \u001b[0;32mIn [9], line 49\u001b[0m\n\u001b[1;32m     47\u001b[0m A \u001b[38;5;241m=\u001b[39m [\u001b[38;5;241m5\u001b[39m,\u001b[38;5;241m9\u001b[39m,\u001b[38;5;241m1\u001b[39m,\u001b[38;5;241m2\u001b[39m,\u001b[38;5;241m4\u001b[39m,\u001b[38;5;241m8\u001b[39m,\u001b[38;5;241m6\u001b[39m,\u001b[38;5;241m3\u001b[39m,\u001b[38;5;241m7\u001b[39m]\n\u001b[1;32m     48\u001b[0m \u001b[38;5;28mprint\u001b[39m(A)\n\u001b[0;32m---> 49\u001b[0m \u001b[43mquick_sort\u001b[49m\u001b[43m(\u001b[49m\u001b[43mA\u001b[49m\u001b[43m)\u001b[49m\n\u001b[1;32m     50\u001b[0m \u001b[38;5;28mprint\u001b[39m(A)\n",
      "Cell \u001b[0;32mIn [9], line 5\u001b[0m, in \u001b[0;36mquick_sort\u001b[0;34m(A)\u001b[0m\n\u001b[1;32m      4\u001b[0m \u001b[38;5;28;01mdef\u001b[39;00m \u001b[38;5;21mquick_sort\u001b[39m(A):\n\u001b[0;32m----> 5\u001b[0m \t\u001b[43mquick_sort2\u001b[49m\u001b[43m(\u001b[49m\u001b[43mA\u001b[49m\u001b[43m,\u001b[49m\u001b[43m \u001b[49m\u001b[38;5;241;43m0\u001b[39;49m\u001b[43m,\u001b[49m\u001b[43m \u001b[49m\u001b[38;5;28;43mlen\u001b[39;49m\u001b[43m(\u001b[49m\u001b[43mA\u001b[49m\u001b[43m)\u001b[49m\u001b[38;5;241;43m-\u001b[39;49m\u001b[38;5;241;43m1\u001b[39;49m\u001b[43m)\u001b[49m\n",
      "Cell \u001b[0;32mIn [9], line 8\u001b[0m, in \u001b[0;36mquick_sort2\u001b[0;34m(A, low, hi)\u001b[0m\n\u001b[1;32m      7\u001b[0m \u001b[38;5;28;01mdef\u001b[39;00m \u001b[38;5;21mquick_sort2\u001b[39m(A, low, hi):\n\u001b[0;32m----> 8\u001b[0m \t\u001b[38;5;28;01mif\u001b[39;00m hi\u001b[38;5;241m-\u001b[39mlow \u001b[38;5;241m<\u001b[39m \u001b[43mthreshold\u001b[49m \u001b[38;5;129;01mand\u001b[39;00m low \u001b[38;5;241m<\u001b[39m hi:\n\u001b[1;32m      9\u001b[0m \t\tquick_selection(A, low, hi)\n\u001b[1;32m     10\u001b[0m \t\u001b[38;5;28;01melif\u001b[39;00m low \u001b[38;5;241m<\u001b[39m hi:\n",
      "\u001b[0;31mNameError\u001b[0m: name 'threshold' is not defined"
     ]
    }
   ],
   "source": [
    "#---------------------------------------\n",
    "# Quick Sort\n",
    "#---------------------------------------\n",
    "def quick_sort(A):\n",
    "\tquick_sort2(A, 0, len(A)-1)\n",
    "\t\n",
    "def quick_sort2(A, low, hi):\n",
    "\tif hi-low < threshold and low < hi:\n",
    "\t\tquick_selection(A, low, hi)\n",
    "\telif low < hi:\n",
    "\t\tp = partition(A, low, hi)\n",
    "\t\tquick_sort2(A, low, p - 1)\n",
    "\t\tquick_sort2(A, p + 1, hi)\n",
    "\t\n",
    "def get_pivot(A, low, hi):\n",
    "\tmid = (hi + low) // 2\n",
    "\ts = sorted([A[low], A[mid], A[hi]])\n",
    "\tif s[1] == A[low]:\n",
    "\t\treturn low\n",
    "\telif s[1] == A[mid]:\n",
    "\t\treturn mid\n",
    "\treturn hi\n",
    "\t\n",
    "def partition(A, low, hi):\n",
    "\tpivotIndex = get_pivot(A, low, hi)\n",
    "\tpivotValue = A[pivotIndex]\n",
    "\tA[pivotIndex], A[low] = A[low], A[pivotIndex]\n",
    "\tborder = low\n",
    "\n",
    "\tfor i in range(low, hi+1):\n",
    "\t\tif A[i] < pivotValue:\n",
    "\t\t\tborder += 1\n",
    "\t\t\tA[i], A[border] = A[border], A[i]\n",
    "\tA[low], A[border] = A[border], A[low]\n",
    "\n",
    "\treturn (border)\n",
    "\t\n",
    "def quick_selection(x, first, last):\n",
    "\tfor i in range (first, last):\n",
    "\t\tminIndex = i\n",
    "\t\tfor j in range (i+1, last+1):\n",
    "\t\t\tif x[j] < x[minIndex]:\n",
    "\t\t\t\tminIndex = j\n",
    "\t\tif minIndex != i:\n",
    "\t\t\tx[i], x[minIndex] = x[minIndex], x[i]\n",
    "\t\t\t\n",
    "A = [5,9,1,2,4,8,6,3,7]\n",
    "print(A)\n",
    "quick_sort(A)\n",
    "print(A)"
   ]
  },
  {
   "cell_type": "code",
   "execution_count": null,
   "id": "9374eb30-260b-42aa-bfcb-981aa31eba07",
   "metadata": {},
   "outputs": [],
   "source": []
  }
 ],
 "metadata": {
  "kernelspec": {
   "display_name": "Python 3 (ipykernel)",
   "language": "python",
   "name": "python3"
  },
  "language_info": {
   "codemirror_mode": {
    "name": "ipython",
    "version": 3
   },
   "file_extension": ".py",
   "mimetype": "text/x-python",
   "name": "python",
   "nbconvert_exporter": "python",
   "pygments_lexer": "ipython3",
   "version": "3.9.7"
  }
 },
 "nbformat": 4,
 "nbformat_minor": 5
}
